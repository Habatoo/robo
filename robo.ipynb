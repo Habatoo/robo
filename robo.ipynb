{
 "cells": [
  {
   "cell_type": "code",
   "execution_count": 1,
   "metadata": {},
   "outputs": [],
   "source": [
    "from PIL import ImageOps, Image, ImageGrab\n",
    "#from IPython.display import Image, display \n",
    "from numpy import array\n",
    "import numpy as np\n",
    "import win32api\n",
    "\n",
    "import time\n",
    "import threading\n",
    "import win32ui, win32gui, win32com, pythoncom, win32con\n",
    "from win32com.client import Dispatch\n",
    "from win32api import GetSystemMetrics\n",
    "\n",
    "import winsound # beep"
   ]
  },
  {
   "cell_type": "code",
   "execution_count": 2,
   "metadata": {},
   "outputs": [],
   "source": [
    "WINDOW_SUBSTRING = ['- the end -', 'Siebel Sales', 'Flask', 'Почта']\n",
    "\n",
    "def start_crm():\n",
    "    ie = Dispatch(\"InternetExplorer.Application\")\n",
    "    ie.Visible = 1\n",
    "    \n",
    "    ie.Navigate('https://crmcorp.ca.sbrf.ru/crmcorp/start.swe?SWECmd=Start&SWEHo=crmcorp.ca.sbrf.ru')\n",
    "\n",
    "def get_window_info():\n",
    "    # set window info\n",
    "    window_info = {}\n",
    "    #start_crm()\n",
    "    win32gui.EnumWindows(set_window_coordinates, window_info)\n",
    "    return window_info\n",
    "\n",
    "# EnumWindows handler\n",
    "# sets window coordinates\n",
    "def set_window_coordinates(hwnd, window_info):\n",
    "    if win32gui.IsWindowVisible(hwnd):\n",
    "        for string in WINDOW_SUBSTRING:\n",
    "            if string in win32gui.GetWindowText(hwnd):\n",
    "                #rect = win32gui.GetWindowRect(hwnd)          \n",
    "                rect = win32gui.GetWindowRect(win32gui.GetDesktopWindow())\n",
    "                x = rect[0]\n",
    "                y = rect[1]\n",
    "                w = rect[2] - x\n",
    "                h = rect[3] - y\n",
    "                window_info['x'] = x\n",
    "                window_info['y'] = y\n",
    "                window_info['width'] = w\n",
    "                window_info['height'] = h\n",
    "                window_info['name'] = win32gui.GetWindowText(hwnd)\n",
    "                win32com.client.Dispatch(\"WScript.Shell\").SendKeys('%')\n",
    "                #start_crm()\n",
    "                win32gui.SetForegroundWindow(hwnd)\n",
    "                win32gui.SetWindowPos(hwnd, win32con.HWND_NOTOPMOST, x, y, w, h, 0)\n",
    "\n",
    "def get_screen(size=win32gui.GetWindowRect(win32gui.GetDesktopWindow())):\n",
    "    time.sleep(3)\n",
    "    screen = ImageGrab.grab(size)\n",
    "    screen.save(r'.\\screen\\full.png', 'PNG')   \n",
    "    img = array(screen.getdata(), dtype='int32').reshape((screen.size[1], screen.size[0], 3))\n",
    "    return img\n",
    "\n",
    "\n",
    "def load_image(infilename):\n",
    "    img = Image.open(infilename)\n",
    "    img.load()\n",
    "    data = np.asarray(img, dtype=\"int32\")\n",
    "    return data\n",
    "\n",
    "def save_image(npdata, outfilename):\n",
    "    img = Image.fromarray(np.asarray(np.clip(npdata,0,255), dtype=\"uint32\"), \"L\")\n",
    "    img.save(outfilename)\n",
    "\n",
    "    \n",
    "def click(arg):\n",
    "    # click at position x, y\n",
    "    win32api.SetCursorPos((arg[1],arg[0]))\n",
    "    win32api.mouse_event(win32con.MOUSEEVENTF_LEFTDOWN,arg[1],arg[0],0,0) # press\n",
    "    win32api.mouse_event(win32con.MOUSEEVENTF_LEFTUP,arg[1],arg[0],0,0) # up\n",
    "    time.sleep(3)\n",
    "    \n",
    "def finder(matrix, pattern):\n",
    "    \n",
    "    def comparer(r, c):\n",
    "        if c + pattern.shape[1] > matrix.shape[1] or r + pattern.shape[0] > matrix.shape[0]:\n",
    "            return\n",
    "        if (np.subtract(matrix[r:r+pattern.shape[0], c:c+pattern.shape[1]], pattern) == 0).all():\n",
    "            return True\n",
    "        return\n",
    "    \n",
    "    def cmp():\n",
    "        for row, sub in enumerate(matrix):\n",
    "            for column, elem in enumerate(sub):\n",
    "                if (pattern[0][0] == elem).all(): # corner element\n",
    "                    if comparer(row, column):\n",
    "                        return row, column\n",
    "    return cmp()"
   ]
  },
  {
   "cell_type": "code",
   "execution_count": 3,
   "metadata": {},
   "outputs": [
    {
     "data": {
      "text/plain": [
       "({}, None)"
      ]
     },
     "execution_count": 3,
     "metadata": {},
     "output_type": "execute_result"
    }
   ],
   "source": [
    "get_window_info(), winsound.Beep(2000, 200)"
   ]
  },
  {
   "cell_type": "code",
   "execution_count": 47,
   "metadata": {},
   "outputs": [],
   "source": [
    "get_window_info()\n",
    "\n",
    "#size = win32gui.GetWindowRect(win32gui.GetDesktopWindow())\n",
    "try:\n",
    "    click(finder(get_screen(), load_image(r'.\\screen\\make.png')))    \n",
    "except:\n",
    "    #winsound.Beep(2500, 200)\n",
    "    pass\n",
    "\n",
    "try:\n",
    "    click(finder(get_screen(), load_image(r'.\\screen\\send.png')))\n",
    "    get_screen()\n",
    "    #winsound.Beep(2000, 200)\n",
    "except:\n",
    "    pass\n",
    "\n",
    "try:\n",
    "    if finder(get_screen(), load_image(r'.\\screen\\mistake.png')):\n",
    "        click(finder(get_screen(), load_image(r'.\\screen\\undu.png')))\n",
    "    get_screen()\n",
    "    #winsound.Beep(2000, 200)\n",
    "except:\n",
    "    pass\n",
    "\n",
    "    #winsound.Beep(2500, 200)\n",
    "winsound.Beep(2000, 200)"
   ]
  },
  {
   "cell_type": "code",
   "execution_count": 6,
   "metadata": {},
   "outputs": [],
   "source": [
    "def finder(matrix, pattern):\n",
    "    \n",
    "    def comparer(r, c):\n",
    "        if c + pattern.shape[1] > matrix.shape[1] or r + pattern.shape[0] > matrix.shape[0]:\n",
    "            return\n",
    "        if (np.subtract(matrix[r:r+pattern.shape[0], c:c+pattern.shape[1]], pattern) == 0).all():\n",
    "            return True\n",
    "        return\n",
    "    \n",
    "    def cmp():\n",
    "        for row, sub in enumerate(matrix):\n",
    "            for column, elem in enumerate(sub):\n",
    "                if (pattern[0][0] == elem).all(): # corner element\n",
    "                    if comparer(row, column):\n",
    "                        return row, column\n",
    "    return cmp()"
   ]
  },
  {
   "cell_type": "code",
   "execution_count": 6,
   "metadata": {},
   "outputs": [],
   "source": [
    "#%%time\n",
    "#(np.subtract(matrix[681:681+pattern.shape[0], 644:644+pattern.shape[1]], pattern)==0).all()\n",
    "\n",
    "#np.all((np.take(seq, check) == subseq), axis=-1)\n",
    "\n",
    "#np.where(\n",
    "#np.dot(pattern, np.moveaxis(pattern, [0, 1, 2], [-1, -2, -3]))\n",
    "# [-2, -3, -1]\n",
    "# [-3, -2, -1]\n",
    "# [-1, -2, -3]\n",
    "# [-2, -1, -3]\n",
    "# [-1, -3, -2] 4d\n",
    "# [-3, -1, -2] 4d\n",
    "#== target)[0]\n",
    "#matrix[681, 644] "
   ]
  },
  {
   "cell_type": "code",
   "execution_count": 4,
   "metadata": {},
   "outputs": [
    {
     "data": {
      "text/plain": [
       "((768, 1366, 3), (13, 70, 3))"
      ]
     },
     "execution_count": 4,
     "metadata": {},
     "output_type": "execute_result"
    }
   ],
   "source": [
    "#test load and find    \n",
    "matrix = load_image(r'.\\screen\\full.png')\n",
    "pattern = load_image(r'.\\screen\\send.png')\n",
    "matrix.shape, pattern.shape"
   ]
  },
  {
   "cell_type": "code",
   "execution_count": null,
   "metadata": {},
   "outputs": [],
   "source": [
    "%%time\n",
    "finder(matrix, pattern) # find and click"
   ]
  },
  {
   "cell_type": "code",
   "execution_count": null,
   "metadata": {},
   "outputs": [],
   "source": [
    "def find_subsequence(seq, subseq):\n",
    "    target = np.dot(subseq, subseq)\n",
    "    candidates = np.where(np.correlate(seq,\n",
    "                                       subseq, mode='valid') == target)[0]\n",
    "    # some of the candidates entries may be false positives, double check\n",
    "    check = candidates[:, np.newaxis] + np.arange(len(subseq))\n",
    "    mask = np.all((np.take(seq, check) == subseq), axis=-1)\n",
    "    return candidates[mask]\n",
    "\n",
    "find_subsequence(img.flatten(), find_.flatten())"
   ]
  },
  {
   "cell_type": "code",
   "execution_count": null,
   "metadata": {},
   "outputs": [],
   "source": []
  },
  {
   "cell_type": "code",
   "execution_count": null,
   "metadata": {},
   "outputs": [],
   "source": [
    "if win32con.WM_LBUTTONUP:\n",
    "    print(\"You clicked me.\")\n",
    "elif win32con.WM_LBUTTONDBLCLK:\n",
    "    print(\"You double-clicked me - goodbye\")\n",
    "    win32gui.DestroyWindow(self.hwnd)\n",
    "elif win32con.WM_RBUTTONUP:\n",
    "    print(\"You right clicked me.\")\n",
    "    menu = win32gui.CreatePopupMenu()"
   ]
  },
  {
   "cell_type": "code",
   "execution_count": null,
   "metadata": {},
   "outputs": [],
   "source": []
  }
 ],
 "metadata": {
  "kernelspec": {
   "display_name": "Python 3",
   "language": "python",
   "name": "python3"
  },
  "language_info": {
   "codemirror_mode": {
    "name": "ipython",
    "version": 3
   },
   "file_extension": ".py",
   "mimetype": "text/x-python",
   "name": "python",
   "nbconvert_exporter": "python",
   "pygments_lexer": "ipython3",
   "version": "3.6.5"
  }
 },
 "nbformat": 4,
 "nbformat_minor": 2
}
